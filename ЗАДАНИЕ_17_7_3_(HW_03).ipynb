{
  "nbformat": 4,
  "nbformat_minor": 0,
  "metadata": {
    "colab": {
      "provenance": [],
      "toc_visible": true,
      "authorship_tag": "ABX9TyOIT2LvlsHtvl/Bt/49WiiB",
      "include_colab_link": true
    },
    "kernelspec": {
      "name": "python3",
      "display_name": "Python 3"
    },
    "language_info": {
      "name": "python"
    }
  },
  "cells": [
    {
      "cell_type": "markdown",
      "metadata": {
        "id": "view-in-github",
        "colab_type": "text"
      },
      "source": [
        "<a href=\"https://colab.research.google.com/github/OG-QAP105/OG-PublicRepository1/blob/master/%D0%97%D0%90%D0%94%D0%90%D0%9D%D0%98%D0%95_17_7_3_(HW_03).ipynb\" target=\"_parent\"><img src=\"https://colab.research.google.com/assets/colab-badge.svg\" alt=\"Open In Colab\"/></a>"
      ]
    },
    {
      "cell_type": "code",
      "source": [
        "# Распределение процентных ставок по вкладам в различных банках:\n",
        "per_cent = {'ТКБ': 5.6, 'СКБ': 5.9, 'ВТБ': 4.28, 'СБЕР': 4.0}   \n",
        "\n",
        "# Банк с максимальной процентной ставкой:\n",
        "import operator   #набор эффективных функций\n",
        "max_bank = max(per_cent.items(), key=operator.itemgetter(1))[0]\n",
        "\n",
        "# Список процентных ставок:\n",
        "list_per_cent = list(per_cent.values())\n",
        "\n",
        "# Сумма депозита:\n",
        "print()\n",
        "money = float(input(\">>> Введите сумму, которую Вы планируете положить под проценты : \"))   \n",
        "\n",
        "# Накопленные средства за год вклада в каждом из банков:\n",
        "deposit = [round((proc * money),2) for proc in list_per_cent]\n",
        "\n",
        "# Максимальная сумма депозита:\n",
        "max_deposit = max(deposit)\n",
        "\n",
        "# Результат:\n",
        "print(\"\\n    Максимальная сумма, которую Вы можете заработать на депозит:\", max_deposit, \"руб.\", '( банк \"',max_bank,'\"',')')"
      ],
      "metadata": {
        "colab": {
          "base_uri": "https://localhost:8080/"
        },
        "id": "56VW4OfvbYCU",
        "outputId": "3a804c40-53d5-445e-9e94-c19014b643d5"
      },
      "execution_count": 78,
      "outputs": [
        {
          "output_type": "stream",
          "name": "stdout",
          "text": [
            "\n",
            ">>> Введите сумму, которую Вы планируете положить под проценты : 1000\n",
            "\n",
            "    Максимальная сумма, которую Вы можете заработать на депозит: 5900.0 руб. ( банк \" СКБ \" )\n"
          ]
        }
      ]
    }
  ]
}